{
  "nbformat": 4,
  "nbformat_minor": 0,
  "metadata": {
    "colab": {
      "provenance": [],
      "toc_visible": true,
      "authorship_tag": "ABX9TyN0Ly2MzWr2hd5YkT1vV9Gl",
      "include_colab_link": true
    },
    "kernelspec": {
      "name": "python3",
      "display_name": "Python 3"
    },
    "language_info": {
      "name": "python"
    }
  },
  "cells": [
    {
      "cell_type": "markdown",
      "metadata": {
        "id": "view-in-github",
        "colab_type": "text"
      },
      "source": [
        "<a href=\"https://colab.research.google.com/github/Meghana09G/ICP2-WEEK-2-/blob/main/ICP_2_WEEK2_NEURAL.ipynb\" target=\"_parent\"><img src=\"https://colab.research.google.com/assets/colab-badge.svg\" alt=\"Open In Colab\"/></a>"
      ]
    },
    {
      "cell_type": "code",
      "execution_count": 1,
      "metadata": {
        "colab": {
          "base_uri": "https://localhost:8080/"
        },
        "id": "n-0mC2gWBU5z",
        "outputId": "a683bece-bf33-4ca2-97d9-4d536600a698"
      },
      "outputs": [
        {
          "output_type": "stream",
          "name": "stdout",
          "text": [
            "Count of the Employees : 3\n",
            "Average salary of the Employee: 700000.0\n",
            "Employee Name: meghana\n",
            "Family Members: 4\n",
            "Employee Annual Salary: 2100000\n",
            "Department: cloud architect\n",
            "==========\n",
            "Employee Name : saikrishna\n",
            "Family Members: 4\n",
            "Employee Annual Salary: 2200000\n",
            "Department: cloud developer\n",
            "Type of Employment : Fulltime\n",
            "==========\n",
            "Employee Name : shanthi\n",
            "Family Members: 3\n",
            "Employee Annual Salary: 2500000\n",
            "Department: Power BI Developer\n",
            "Type of Employment : Fulltime\n",
            "==========\n"
          ]
        }
      ],
      "source": [
        "# QUE 1\n",
        "\n",
        "class Employee:\n",
        "    # DATA MEMBER TO COUNT THE NUMBER OF EMPLOYEES\n",
        "    empCount = 0\n",
        "\n",
        "    # CONSTRUCTOR TO INITIALIZE NAME, FAMILY, SALARY, DEPARTMENT\n",
        "    def __init__(self, name, family, salary, department):\n",
        "        self.name = name\n",
        "        self.family = family\n",
        "        self.salary = salary\n",
        "        self.department = department\n",
        "        Employee.empCount += 1    # EMPLOYEE COUNT\n",
        "\n",
        "    # FUNCTION FOR AVERAGE SALARY OF EMPLOYEE\n",
        "    def avg_salary(self):\n",
        "        total_salary = 0\n",
        "        total_salary += float(self.salary)\n",
        "        avg = total_salary / Employee.empCount\n",
        "        print('Average salary of the Employee:', avg)\n",
        "\n",
        "    # TO DISPLAY DETAILS OF EMPLOYEE\n",
        "    def display(self):\n",
        "        print('Employee Name:', self.name)\n",
        "        print('Family Members:', self.family)\n",
        "        print('Employee Annual Salary:', self.salary)\n",
        "        print('Department:', self.department)\n",
        "        print(\"==========\")\n",
        "\n",
        "# INHERITING - EMPLOYEE CLASS\n",
        "class Fulltime_Employee(Employee):\n",
        "    def __init__(self, name, family, salary, department, emp_type):\n",
        "        Employee.__init__(self, name, family, salary, department)\n",
        "        self.emp_type = emp_type\n",
        "\n",
        "    #FUNCTION TO DISPLAY EMPLOYEE DETAILS\n",
        "    def display(self):\n",
        "        print(\"Employee Name :\", self.name)\n",
        "        print('Family Members:', self.family)\n",
        "        print('Employee Annual Salary:', self.salary)\n",
        "        print('Department:', self.department)\n",
        "        print('Type of Employment :', self.emp_type)\n",
        "        print(\"==========\")\n",
        "\n",
        "\n",
        "# INSTANCES FOR EMPLOYEE CLASS\n",
        "emp1 = Employee('meghana', '4', '2100000', 'cloud architect')\n",
        "# INSTANCE FOR FULL TIME EMPLOYEE\n",
        "emp2 = Fulltime_Employee('saikrishna', '4', '2200000', 'cloud developer', 'Fulltime')\n",
        "emp3 = Fulltime_Employee('shanthi', '3', '2500000', 'Power BI Developer', 'Fulltime')\n",
        "\n",
        "print(\"Count of the Employees :\", emp1.empCount)\n",
        "emp1.avg_salary()\n",
        "emp1.display()\n",
        "emp2.display()\n",
        "emp3.display()"
      ]
    },
    {
      "cell_type": "markdown",
      "source": [
        "https://drive.google.com/file/d/1gEKvKg8zKDeNurOM5QdvfaJWjd2lfbrN/view?usp=sharing"
      ],
      "metadata": {
        "id": "txFKIP4AECaC"
      }
    },
    {
      "cell_type": "code",
      "source": [
        "# QUE 2\n",
        "\n",
        "import numpy as np\n",
        "\n",
        "# creating array of size as 20\n",
        "random_vector = np.random.uniform(1, 20, 20)\n",
        "print(\"Random Vector : \\n\", random_vector)\n",
        "\n",
        "# reshape the array to 4 cross 5\n",
        "random_vector = random_vector.reshape(4,5)\n",
        "print(\"after reshaping (4 by 5): \\n\", random_vector)\n",
        "\n",
        "# replace the maximum in each row\n",
        "random_vector[np.arange(len(random_vector)), random_vector.argmax(1)] = 0\n",
        "print(\"Replacing the maximum in each row : \\n\", random_vector)"
      ],
      "metadata": {
        "id": "E-c2ZWl9CTwb",
        "outputId": "ba039dff-2d06-493b-e854-74a85c8d04dc",
        "colab": {
          "base_uri": "https://localhost:8080/"
        }
      },
      "execution_count": null,
      "outputs": [
        {
          "output_type": "stream",
          "name": "stdout",
          "text": [
            "Random Vector : \n",
            " [13.634174   17.12339611 15.95000383 19.55050559  1.84113444 11.21404508\n",
            "  9.41147996  7.45628214 18.02852999  2.23738545 19.90980639  3.25152467\n",
            " 18.91794567 10.21001162 16.65711857 12.04996628 11.47551822  2.81517365\n",
            "  6.29021525  9.93649888]\n",
            "after reshaping (4 by 5): \n",
            " [[13.634174   17.12339611 15.95000383 19.55050559  1.84113444]\n",
            " [11.21404508  9.41147996  7.45628214 18.02852999  2.23738545]\n",
            " [19.90980639  3.25152467 18.91794567 10.21001162 16.65711857]\n",
            " [12.04996628 11.47551822  2.81517365  6.29021525  9.93649888]]\n",
            "Replacing the maximum in each row : \n",
            " [[13.634174   17.12339611 15.95000383  0.          1.84113444]\n",
            " [11.21404508  9.41147996  7.45628214  0.          2.23738545]\n",
            " [ 0.          3.25152467 18.91794567 10.21001162 16.65711857]\n",
            " [ 0.         11.47551822  2.81517365  6.29021525  9.93649888]]\n"
          ]
        }
      ]
    },
    {
      "cell_type": "markdown",
      "source": [
        "https://drive.google.com/file/d/1gEKvKg8zKDeNurOM5QdvfaJWjd2lfbrN/view?usp=sharing"
      ],
      "metadata": {
        "id": "mODu-S_dEHIi"
      }
    }
  ]
}